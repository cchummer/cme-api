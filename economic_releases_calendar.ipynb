{
  "nbformat": 4,
  "nbformat_minor": 0,
  "metadata": {
    "colab": {
      "provenance": [],
      "authorship_tag": "ABX9TyMcHcden3O1b5xn6XdIe+Mk"
    },
    "kernelspec": {
      "name": "python3",
      "display_name": "Python 3"
    },
    "language_info": {
      "name": "python"
    }
  },
  "cells": [
    {
      "cell_type": "markdown",
      "source": [
        "# Scraping CME Group's Economic Release Calendar\n",
        "\n",
        "The CME Group economic release calendar is accessible via [this](https://www.cmegroup.com/education/events/economic-releases-calendar.html) HTML page. \n",
        "\n",
        "However, the calendar itself is loaded using AJAX. Taking a look in the javascript section of the page's source we find the following function:\n",
        "\n",
        "\n",
        "```\n",
        "function loadCalendar(monthParam,yearParam) {\n",
        "\t\n",
        "\tvar month = (monthParam != undefined) ? monthParam : '-';\n",
        "\tvar year = (yearParam != undefined)? yearParam : '-';\n",
        "\t\n",
        "\tvar setEconomicCalendar = function(content) {\n",
        "\t\t$j('#ajaxEconomicCalendar').html(content);\n",
        "\t};\n",
        "\t$j.ajax({\n",
        "\t\ttype: 'get',\n",
        "\t\turl: '/content/cmegroup/en/education/events/economic-releases-calendar/jcr:content/full-par/cmelayoutfull/full-par/cmeeconomycalendar.ajax.'+month+'.'+year+'.html',\n",
        "\t\tbeforeSend: function() {\n",
        "\t\t\tvar spinner = '<div class=\"cmeProgressPanel\">Processing...</div>';\n",
        "\t\t\tsetEconomicCalendar(spinner);\n",
        "\t\t},\n",
        "\t\tsuccess: function(data) {\n",
        "\t        setEconomicCalendar(data);\n",
        "\t\t},\n",
        "\t\terror: function(xhr, status, error) {\n",
        "\t\t\tsetEconomicCalendar('An error occurred: ' + error);\n",
        "\t\t}\n",
        "\t});\n",
        "}\n",
        "```\n",
        "Which led me to the following:\n",
        "https://www.cmegroup.com/content/cmegroup/en/education/events/economic-releases-calendar/jcr:content/full-par/cmelayoutfull/full-par/cmeeconomycalendar.ajax.10.2022.html\n",
        "\n",
        "Months are numbered 0-11, which took me a couple more minutes to figure out than I would like to admit lol. \n",
        "\n"
      ],
      "metadata": {
        "id": "w87z12EKZEJM"
      }
    },
    {
      "cell_type": "markdown",
      "source": [
        "A simple HTML page is returned, the body of which contains a number of `<div>` elements. One `<div class=DateLabel>` exists per date of the month, with HTML text of the date. Between each DateLabel div is a number of `<div>` elements of id=\"Event_1\", one per event. They all seem to share that id value but the class attribute distinguishes the respective country, class=\"Event US/JP/NZ/ETC\". \n",
        "Each event div will contain at least two, possibly three child elements:\n",
        "- The first is an `<a href...>` link to the page on CME's website for that event, with a text value again including the respective country and now a text description of the event as well. \n",
        "- The second always-included child is a `<span>` element of class=\"Time\" who's text contains the time of release. \n",
        "- The third possible child is an indication of whether the release, on the event's respective page on CME's website, includes a a table of data/\"report\". If so, an `<img>` tag [pointed](https://www.cmegroup.com/etc/clientlibs/cmegroup/cmegroupClientLibs/images/byreport_butt_new.gif) to a static image of a banner of the word \"Report\" is a present. We will record whether or not this tag is present"
      ],
      "metadata": {
        "id": "opwq4mwCkmwV"
      }
    },
    {
      "cell_type": "code",
      "execution_count": null,
      "metadata": {
        "id": "4iLpKkQCY_0o"
      },
      "outputs": [],
      "source": [
        "import requests\n",
        "from bs4 import BeautifulSoup\n",
        "from datetime import date"
      ]
    },
    {
      "cell_type": "markdown",
      "source": [
        "This first method simply takes a datetime date object and retrieves the matching monthly economic release calendar. A dictionary is returned, with one key/value pair per date of the month. The value of each dictionary element will be a list of events, each represented in its own dictionary. Example structure:\n",
        "\n",
        "```\n",
        "{\n",
        "  \"00\" : [], # Should be empty unless problem reading dates\n",
        "  \"01\" : [\n",
        "    {\n",
        "      \"country\" : \"US\",\n",
        "      \"name\" : \"Example Event\",\n",
        "      \"time\" : \"12:00 PM ET\",\n",
        "      \"link\" : \"https://....\",\n",
        "      \"has_report\" : True\n",
        "    },\n",
        "    ...\n",
        "  ],\n",
        "  \"02\" : [\n",
        "    ...\n",
        "  ],\n",
        "  ...\n",
        "}\n",
        "```\n",
        "\n"
      ],
      "metadata": {
        "id": "SrYbBpy9k71N"
      }
    },
    {
      "cell_type": "code",
      "source": [
        "def get_monthly_econ_cal(target_date):\n",
        "  master_dict = {}\n",
        "\n",
        "  # Check input\n",
        "  if type(target_date) != date:\n",
        "    print(\"Enter target month by passing a full datetime.date object\")\n",
        "    return master_dict\n",
        "\n",
        "  # URL and UA\n",
        "  cme_base_url = \"https://www.cmegroup.com\"\n",
        "  calendar_url = \"{}/content/cmegroup/en/education/events/economic-releases-calendar/jcr:content/full-par/cmelayoutfull/full-par/cmeeconomycalendar.ajax.{}.{}.html\".format(cme_base_url, target_date.month - 1, target_date.year)\n",
        "  request_headers = { \"User-Agent\" : \"Mozilla/5.0 AppleWebKit/537.36 (KHTML, like Gecko) Chrome/107.0.0.0 Safari/537.36\" }\n",
        "\n",
        "  # Get contents\n",
        "  response = requests.get(url = calendar_url, headers = request_headers)\n",
        "  response.raise_for_status()\n",
        "  calendar_soup = BeautifulSoup(response.content, \"lxml\")\n",
        "\n",
        "  # Grab all of the div elements, loop through them\n",
        "  current_date = \"00\" # Ff we somehow encounter events before a DateLabel or otherwise fail to read the dates, default to here\n",
        "  master_dict[current_date] = []\n",
        "  all_divs = calendar_soup.find_all(\"div\")\n",
        "  for cur_div in all_divs:\n",
        "\n",
        "    # When we hit a DateLabel, update the current date we should be appending events to, and initialize its list in the master dict\n",
        "    if \"DateLabel\" in cur_div.get(\"class\"): # Remember, class is a multi value attribute and bs4 returns a list even if only 1 is supplied\n",
        "      current_date = cur_div.text.strip().zfill(2)\n",
        "      master_dict[current_date] = []\n",
        "\n",
        "    # Event\n",
        "    elif (cur_div.has_attr(\"id\") and \"Event_\" in cur_div.get(\"id\")):\n",
        "\n",
        "      # Create a dict for it\n",
        "      event_dict = {}\n",
        "\n",
        "      # Grab the link and event name\n",
        "      event_link = cur_div.find(\"a\", attrs = { \"href\" : True })\n",
        "      if not event_link:\n",
        "        print(\"Date: {}\".format(current_date))\n",
        "        print(\"Found event with no link, check format: {}\".format(cur_div))\n",
        "        input()\n",
        "      event_dict[\"link\"] = cme_base_url + event_link.get(\"href\")\n",
        "\n",
        "      # Split event name into country and event\n",
        "      event_name_split = event_link.text.split(\":\") # Example event name: \"IN: PMI Manufacturing\"\n",
        "      event_dict[\"country\"] = event_name_split[0].strip()\n",
        "      event_dict[\"name\"] = event_name_split[1].strip()\n",
        "\n",
        "      # Grab time\n",
        "      time_tag = cur_div.find(\"span\", attrs = { \"class\" : \"Time\" })\n",
        "      if not time_tag:\n",
        "        print(\"Date: {}\".format(current_date))\n",
        "        print(\"Found event with no time, check format: {}\".format(cur_div))\n",
        "        input()\n",
        "      event_dict[\"time\"] = time_tag.text.strip()\n",
        "\n",
        "      # Look for image indicated \"report\" style release\n",
        "      report_img = cur_div.find(\"img\", attrs = { \"src\" : True })\n",
        "      if report_img:\n",
        "        event_dict[\"has_report\"] = True\n",
        "      else:\n",
        "        event_dict[\"has_report\"] = False\n",
        "\n",
        "      # Append the dictionary to the current date. The key should be intialized when he hit the DateLabel before the corresponding events\n",
        "      master_dict[current_date].append(event_dict)\n",
        "\n",
        "    else:\n",
        "      pass\n",
        "\n",
        "  return master_dict"
      ],
      "metadata": {
        "id": "9ega0sHOmfbU"
      },
      "execution_count": null,
      "outputs": []
    },
    {
      "cell_type": "code",
      "source": [
        "# Target a specific date's calendar\n",
        "def get_daily_econ_cal(target_date):\n",
        "  day_list = []\n",
        "\n",
        "  # Check input\n",
        "  if type(target_date) != date:\n",
        "    print(\"Enter target date by passing a full datetime.date object\")\n",
        "    return day_list\n",
        "\n",
        "  # Get monthly calendar\n",
        "  monthly_cal = get_monthly_econ_cal(target_date)\n",
        "  if not monthly_cal:\n",
        "    print(\"Failed to get monthly calendar for {}/{}\".format(target_date.month, target_date.year))\n",
        "    return day_list\n",
        "\n",
        "  # Find the matching date's key\n",
        "  day_list = monthly_cal.get(str(target_date.day))\n",
        "  return day_list\n"
      ],
      "metadata": {
        "id": "leN-tZZd1Nbf"
      },
      "execution_count": null,
      "outputs": []
    },
    {
      "cell_type": "code",
      "source": [
        "test_date = date.today()\n",
        "\n",
        "#print(get_monthly_econ_cal(test_date))\n",
        "print(get_daily_econ_cal(test_date))"
      ],
      "metadata": {
        "id": "7zgTL8cxvMG2"
      },
      "execution_count": null,
      "outputs": []
    }
  ]
}